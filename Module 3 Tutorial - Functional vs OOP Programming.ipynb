{
 "cells": [
  {
   "cell_type": "code",
   "execution_count": 3,
   "id": "4c38f123-0304-4bd7-9fb9-1aec22c6f3e5",
   "metadata": {},
   "outputs": [],
   "source": [
    "class Solution:\n",
    "    def sort012(self, arr):\n",
    "        low = 0          # Pointer for the position of 0s\n",
    "        mid = 0          # Pointer for the current element\n",
    "        high = len(arr) - 1  # Pointer for the position of 2s\n",
    "\n",
    "        # Process the array\n",
    "        while mid <= high:\n",
    "            if arr[mid] == 0:\n",
    "                # Swap the element at mid with the element at low\n",
    "                arr[low], arr[mid] = arr[mid], arr[low]\n",
    "                low += 1\n",
    "                mid += 1\n",
    "            elif arr[mid] == 1:\n",
    "                # Move mid pointer only\n",
    "                mid += 1\n",
    "            else:\n",
    "                # Swap the element at mid with the element at high\n",
    "                arr[mid], arr[high] = arr[high], arr[mid]\n",
    "                high -= 1\n",
    "        return arr\n",
    "\n",
    "def main():\n",
    "    # Example input\n",
    "    arr = [0, 1, 2, 0, 1, 2]\n",
    "    \n",
    "    # Create an instance of the Solution class\n",
    "    ob = Solution()\n",
    "    \n",
    "    # Sort the array and print the result\n",
    "    ob.sort012(arr)  # Sort the array using the method `sort012`\n",
    "    \n",
    "\n",
    "# Run the main function\n",
    "if __name__ == \"__main__\":\n",
    "    main()\n"
   ]
  },
  {
   "cell_type": "code",
   "execution_count": null,
   "id": "4ab04788-e951-4212-aa9d-59cfa3d183ce",
   "metadata": {},
   "outputs": [],
   "source": [
    "class Solution:\n",
    "    def binarysearch(self, arr, k):\n",
    "        left, right = 0, len(arr) - 1\n",
    "        result = -1  # Initialize result as -1 in case k is not found\n",
    "\n",
    "        while left <= right:\n",
    "            mid = left + (right - left) // 2\n",
    "\n",
    "            if arr[mid] == k:\n",
    "                result = mid  # Store the index where k is found\n",
    "                right = mid - 1  # Continue searching to the left for the first occurrence\n",
    "            elif arr[mid] < k:\n",
    "                left = mid + 1\n",
    "            else:\n",
    "                right = mid - 1\n",
    "\n",
    "        return result  # Return the smallest index where k is found, or -1 if not found\n"
   ]
  }
 ],
 "metadata": {
  "kernelspec": {
   "display_name": "anaconda-ai-2024.04-py310",
   "language": "python",
   "name": "conda-env-anaconda-ai-2024.04-py310-py"
  },
  "language_info": {
   "codemirror_mode": {
    "name": "ipython",
    "version": 3
   },
   "file_extension": ".py",
   "mimetype": "text/x-python",
   "name": "python",
   "nbconvert_exporter": "python",
   "pygments_lexer": "ipython3",
   "version": "3.10.13"
  }
 },
 "nbformat": 4,
 "nbformat_minor": 5
}
